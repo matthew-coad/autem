#%% Change working directory from the workspace root to the ipynb file location. 
import os
try:
	os.chdir(os.path.join(os.getcwd(), 'debug'))
	print(os.getcwd())
except:
	pass

#%%
import plotly.plotly as py
import plotly.graph_objs as go
from plotly.tools import FigureFactory as FF

import numpy as np
import pandas as pd
import scipy
import scipy.stats

data1 = np.random.normal(0, 1, size=50)
data2 = np.random.normal(2, 1, size=50)

#%%
x = np.linspace(-4, 4, 160)
y1 = scipy.stats.norm.pdf(x)
y2 = scipy.stats.norm.pdf(x, loc=2)

trace1 = go.Scatter(
    x = x,
    y = y1,
    mode = 'lines+markers',
    name='Mean of 0'
)

trace2 = go.Scatter(
    x = x,
    y = y2,
    mode = 'lines+markers',
    name='Mean of 2'
)

data = [trace1, trace2]

py.iplot(data)